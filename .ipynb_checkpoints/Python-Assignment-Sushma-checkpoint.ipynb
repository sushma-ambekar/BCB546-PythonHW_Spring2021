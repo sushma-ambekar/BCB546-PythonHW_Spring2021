{
 "cells": [
  {
   "cell_type": "markdown",
   "metadata": {},
   "source": [
    "# Python Assignment for BCB546X- Spring 2021\n",
    "\n",
    "Sushma Ambekar"
   ]
  },
  {
   "cell_type": "markdown",
   "metadata": {},
   "source": [
    "### Importing all required packages for the assignment"
   ]
  },
  {
   "cell_type": "code",
   "execution_count": 46,
   "metadata": {},
   "outputs": [],
   "source": [
    "## Setting the required environment for all future code\n",
    "from Bio import SeqIO\n",
    "from Bio import Seq\n",
    "from Bio.Data import CodonTable\n",
    "from Bio.SeqUtils.ProtParam import ProteinAnalysis\n",
    "from Bio.SeqUtils import GC\n",
    "\n",
    "import pandas as pd\n",
    "import seaborn as sns\n",
    "import matplotlib.pyplot as plt\n",
    "sns.set(style=\"ticks\", color_codes=True)\n",
    "%matplotlib inline  # Shows plots inline"
   ]
  },
  {
   "cell_type": "markdown",
   "metadata": {},
   "source": [
    "## Functions"
   ]
  },
  {
   "cell_type": "markdown",
   "metadata": {},
   "source": [
    "### 1. Getting the sequences"
   ]
  },
  {
   "cell_type": "code",
   "execution_count": 47,
   "metadata": {},
   "outputs": [],
   "source": [
    "## This function reads in a FASTA file and returns a dictionary of sequences by species name\n",
    "def get_sequences_from_file(fasta_fn):  #Input: FASTA file in quotations \n",
    "    sequence_data_dict = {}   # Creates a dictonary,\n",
    "    for record in SeqIO.parse(fasta_fn, \"fasta\"): # Parses out the species name from the input file, then uses the species name as the key for sequences\n",
    "        description = record.description.split()\n",
    "        species_name = description[1] + \" \" + description[2]\n",
    "        sequence_data_dict[species_name] = record.seq  \n",
    "    return(sequence_data_dict) # The returned result is the dictonary, the sequence can be accessed by iterating through it. "
   ]
  },
  {
   "cell_type": "markdown",
   "metadata": {},
   "source": [
    "### 2. Sequence translation function"
   ]
  },
  {
   "cell_type": "code",
   "execution_count": 48,
   "metadata": {},
   "outputs": [],
   "source": [
    "##This function converts a nucleotide sequence string to an amino acid string\n",
    "def translate_function(string_nucleotides): #input is a consistent string of nucleotide sequence\n",
    "    mito_table = CodonTable.unambiguous_dna_by_name[\"Vertebrate Mitochondrial\"] #returns a table of codons to amino acid symbol (http://biopython.org/DIST/docs/tutorial/Tutorial.html)\n",
    "    string_aa = \"\"\n",
    "    for i in range(0,len(string_nucleotides),4): # i starts at 0, iterates to next codon until end of nucleotide sequence\n",
    "        codon = string_nucleotides[i:i+3] #creates a codon out of a 3 length nucleotide sequence\n",
    "        if codon in [\"TAA\",\"TAG\",\"AGA\",\"AGG\"]:  #check for stop codon\n",
    "            return string_aa #quit function with sequence generated so far\n",
    "        aa_seq_string=aa_seq_string+mito_table.forward_table[codon] #translates the codon using provided command by Dr. X and adds it to the current total sequence\n",
    "    return(string_aa) #returns a string containing the translated amino acid sequence in aa symbols "
   ]
  },
  {
   "cell_type": "markdown",
   "metadata": {},
   "source": [
    "### 3. Alternative translation function"
   ]
  },
  {
   "cell_type": "code",
   "execution_count": null,
   "metadata": {},
   "outputs": [],
   "source": [
    "## This is an alternative way to convert a nucleotide sequence to an amino acid string\n",
    "def better_translate(string_nucleotides): #input is a consistent string of nucleotide sequence\n",
    "    better_string_aa = \"\"\n",
    "    better_string_aa=Seq.translate(string_nucleotides, table=2, to_stop=True) #translates the nucleotide sequence into amino acids, stopping at a stop codon (http://biopython.org/DIST/docs/tutorial/Tutorial.html)\n",
    "    return better_string_aa #returns a string containing the translated amino acid sequence in aa symbols "
   ]
  },
  {
   "cell_type": "markdown",
   "metadata": {},
   "source": [
    "### 4. Function to calculate molecular weight of AA string"
   ]
  },
  {
   "cell_type": "code",
   "execution_count": null,
   "metadata": {},
   "outputs": [],
   "source": [
    "##This function returns the molecular weight of an amino acid (aa) string\n",
    "def compute_molecular_weight(aa_seq): #INPUT: string of an amino acid sequence, must be only amino acids\n",
    "    analysed_seq = ProteinAnalysis(aa_seq) #checks if the argument is a pure amino acid sequence\n",
    "    return analysed_seq.molecular_weight() #returns the molecular weight as a float\n",
    "## (cite: http://biopython.org/wiki/ProtParam)"
   ]
  },
  {
   "cell_type": "markdown",
   "metadata": {},
   "source": [
    "### 5. GC% function"
   ]
  },
  {
   "cell_type": "code",
   "execution_count": null,
   "metadata": {},
   "outputs": [],
   "source": [
    "##This function returns the GC content of an amino acid string\n",
    "def compute_GC_content(DNA_seq): #INPUT: string of an amino acid sequence, must be only amino acids\n",
    "    return GC(DNA_seq) #returns the GC content as a float, percentage between 0 and 100\n",
    "## (cite: http://biopython.org/DIST/docs/api/Bio.SeqUtils-module.html)"
   ]
  },
  {
   "cell_type": "markdown",
   "metadata": {},
   "source": [
    "### Main\n"
   ]
  },
  {
   "cell_type": "code",
   "execution_count": 56,
   "metadata": {},
   "outputs": [],
   "source": [
    "## Read in the files and convert them to a dictionary\n",
    "cytb_seqs = get_sequences_from_file('bears_cytb.fasta') \n",
    "bears_df = pd.read_csv('bears_mass.csv') # Create a dataframe of bear body mass and \n",
    "species_list = list(bears_df.species) # Create a new list of species names with it\n"
   ]
  },
  {
   "cell_type": "markdown",
   "metadata": {},
   "source": [
    "### Checking the dataframes"
   ]
  },
  {
   "cell_type": "code",
   "execution_count": 57,
   "metadata": {},
   "outputs": [
    {
     "data": {
      "text/plain": [
       "{'Ursus spelaeus': Seq('ATGACCAACATCCGAAAAACCCATCCATTAGCTAAAATCATCAACAACTCATTT...AGA'),\n",
       " 'Ursus arctos': Seq('ATGACCAACATCCGAAAAACCCACCCATTAGCTAAAATCATCAACAACTCACTT...AGA'),\n",
       " 'Ursus thibetanus': Seq('ATGACCAACATCCGAAAAACCCATCCATTAGCCAAAATCATCAACAACTCACTC...AGA'),\n",
       " 'Melursus ursinus': Seq('ATGACCAACATCCGAAAAACCCACCCATTAGCTAAAATCATTAACAACTCACTC...AGA'),\n",
       " 'Ursus americanus': Seq('ATGACCAACATCCGAAAAACCCACCCATTAGCTAAAATCATCAACAACTCACTT...AGA'),\n",
       " 'Helarctos malayanus': Seq('ATGACCAACATCCGAAAAACCCACCCATTAGCTAAAATCATTAACAACTCACTT...AGA'),\n",
       " 'Ailuropoda melanoleuca': Seq('ATGATCAACATCCGAAAAACTCATCCATTAGTTAAAATTATCAACAACTCATTC...AGA'),\n",
       " 'Tremarctos ornatus': Seq('ATGACCAACATCCGAAAAACTCACCCACTAGCTAAAATCATCAACAGCTCATTC...AGA'),\n",
       " 'Ursus maritimus': Seq('ATGACCAACATCCGAAAAACCCACCCATTAGCTAAAATCATCAACAACTCATTT...AGA')}"
      ]
     },
     "execution_count": 57,
     "metadata": {},
     "output_type": "execute_result"
    }
   ],
   "source": [
    "cytb_seqs # Look at the sequences"
   ]
  },
  {
   "cell_type": "code",
   "execution_count": 58,
   "metadata": {},
   "outputs": [
    {
     "data": {
      "text/html": [
       "<div>\n",
       "<style scoped>\n",
       "    .dataframe tbody tr th:only-of-type {\n",
       "        vertical-align: middle;\n",
       "    }\n",
       "\n",
       "    .dataframe tbody tr th {\n",
       "        vertical-align: top;\n",
       "    }\n",
       "\n",
       "    .dataframe thead th {\n",
       "        text-align: right;\n",
       "    }\n",
       "</style>\n",
       "<table border=\"1\" class=\"dataframe\">\n",
       "  <thead>\n",
       "    <tr style=\"text-align: right;\">\n",
       "      <th></th>\n",
       "      <th>species</th>\n",
       "      <th>mass</th>\n",
       "    </tr>\n",
       "  </thead>\n",
       "  <tbody>\n",
       "    <tr>\n",
       "      <th>0</th>\n",
       "      <td>Ursus spelaeus</td>\n",
       "      <td>550.800</td>\n",
       "    </tr>\n",
       "    <tr>\n",
       "      <th>1</th>\n",
       "      <td>Ursus arctos</td>\n",
       "      <td>203.500</td>\n",
       "    </tr>\n",
       "    <tr>\n",
       "      <th>2</th>\n",
       "      <td>Ursus thibetanus</td>\n",
       "      <td>99.714</td>\n",
       "    </tr>\n",
       "    <tr>\n",
       "      <th>3</th>\n",
       "      <td>Melursus ursinus</td>\n",
       "      <td>100.030</td>\n",
       "    </tr>\n",
       "    <tr>\n",
       "      <th>4</th>\n",
       "      <td>Ursus americanus</td>\n",
       "      <td>110.560</td>\n",
       "    </tr>\n",
       "    <tr>\n",
       "      <th>5</th>\n",
       "      <td>Helarctos malayanus</td>\n",
       "      <td>47.020</td>\n",
       "    </tr>\n",
       "    <tr>\n",
       "      <th>6</th>\n",
       "      <td>Ailuropoda melanoleuca</td>\n",
       "      <td>118.200</td>\n",
       "    </tr>\n",
       "    <tr>\n",
       "      <th>7</th>\n",
       "      <td>Tremarctos ornatus</td>\n",
       "      <td>140.700</td>\n",
       "    </tr>\n",
       "    <tr>\n",
       "      <th>8</th>\n",
       "      <td>Ursus maritimus</td>\n",
       "      <td>425.100</td>\n",
       "    </tr>\n",
       "  </tbody>\n",
       "</table>\n",
       "</div>"
      ],
      "text/plain": [
       "                  species     mass\n",
       "0          Ursus spelaeus  550.800\n",
       "1            Ursus arctos  203.500\n",
       "2        Ursus thibetanus   99.714\n",
       "3        Melursus ursinus  100.030\n",
       "4        Ursus americanus  110.560\n",
       "5     Helarctos malayanus   47.020\n",
       "6  Ailuropoda melanoleuca  118.200\n",
       "7      Tremarctos ornatus  140.700\n",
       "8         Ursus maritimus  425.100"
      ]
     },
     "execution_count": 58,
     "metadata": {},
     "output_type": "execute_result"
    }
   ],
   "source": [
    "bears_df # Check the bears_df dataframe"
   ]
  },
  {
   "cell_type": "code",
   "execution_count": null,
   "metadata": {},
   "outputs": [],
   "source": []
  },
  {
   "cell_type": "code",
   "execution_count": null,
   "metadata": {},
   "outputs": [],
   "source": [
    "## 6.\n",
    "bears_molec_df = bears_df.copy()  #Create a copy of the original df to avoid tampering with raw data\n",
    "for index, row in bears_molec_df.iterrows():   #Loop through the data frame, initializing a new column with value 'NAN'\n",
    "    bears_molec_df.loc[index,'molecular_weight'] = \"NaN\"    #in each row\n",
    "for index, row in bears_molec_df.iterrows():\n",
    "    bears_molec_df.loc[index,'GC_content'] = \"NaN\"\n",
    "bears_molec_df.head(5)  #Shows the current state of our copy"
   ]
  },
  {
   "cell_type": "code",
   "execution_count": null,
   "metadata": {},
   "outputs": [],
   "source": [
    "bears_molec_df\n"
   ]
  },
  {
   "cell_type": "code",
   "execution_count": null,
   "metadata": {},
   "outputs": [],
   "source": [
    "## 7. \n",
    "## For loop to iterate through each species represented by a row, compute statistics from cytb_seqs, \n",
    "## and write them to our previously made new columns\n",
    "\n",
    "row = 0\n",
    "for i in bears_molec_df.species:  #Gets you the names of the species in the bear df\n",
    "    #Translates the sequence of the corresponding species in cytb and saves to new variable\n",
    "    aa_sequence = better_translate(str(cytb_seqs[i]))\n",
    "    #computes the molecular weight of the new aa sequence\n",
    "    molec_weight = compute_molecular_weight(aa_sequence)\n",
    "    #computes the GC content of the DNA sequence\n",
    "    GC_sequence = compute_GC_content(str(cytb_seqs[i]))\n",
    "    #Write the values to the new columns\n",
    "    bears_molec_df.iloc[row, bears_molec_df.columns.get_loc('molecular_weight')] = molec_weight\n",
    "    bears_molec_df.iloc[row, bears_molec_df.columns.get_loc('GC_content')] = GC_sequence\n",
    "    row += 1\n",
    "bears_molec_df.head(5)"
   ]
  },
  {
   "cell_type": "markdown",
   "metadata": {},
   "source": [
    "### Plotting"
   ]
  },
  {
   "cell_type": "code",
   "execution_count": null,
   "metadata": {},
   "outputs": [],
   "source": [
    "## 8. \n",
    "## A bar-chart plotted with seaborn of the mass with the x-axes labeled with species names.\n",
    "plot_dims = (14, 9)\n",
    "b = sns.catplot(data=bears_molec_df, x=\"species\", y=\"mass\", kind=\"bar\", aspect=3)\n",
    "b.set_xticklabels(rotation=60) #rotates the x axis labels for readability \n",
    "\n",
    "##CITE (https://stackoverflow.com/questions/26540035/rotate-label-text-in-seaborn-factorplot)"
   ]
  },
  {
   "cell_type": "markdown",
   "metadata": {},
   "source": [
    "### *Q1* What is the largest bear species? \n",
    "The Ursus spelaeus is the largest bear species\n",
    "\n",
    "### *Q2* What else is interesting about this species?\n",
    "Ursus spelaeus, also called the cave bear was mostly a vegetarian like me!"
   ]
  },
  {
   "cell_type": "code",
   "execution_count": null,
   "metadata": {},
   "outputs": [],
   "source": [
    "## 9.\n",
    "## Plot with seaborn of the molecular weight (y-axis) as a function of GC-content (x-axis)\n",
    "weight_GC = sns.lmplot(data=bears_molec_df, x=\"GC_content\", y=\"molecular_weight\", fit_reg=False, \n",
    "                       height=8, hue='species', markers='D')"
   ]
  },
  {
   "cell_type": "code",
   "execution_count": 59,
   "metadata": {},
   "outputs": [
    {
     "data": {
      "application/javascript": [
       "IPython.notebook.save_notebook()\n"
      ],
      "text/plain": [
       "<IPython.core.display.Javascript object>"
      ]
     },
     "metadata": {},
     "output_type": "display_data"
    }
   ],
   "source": []
  },
  {
   "cell_type": "code",
   "execution_count": null,
   "metadata": {},
   "outputs": [],
   "source": []
  }
 ],
 "metadata": {
  "kernelspec": {
   "display_name": "Python 3",
   "language": "python",
   "name": "python3"
  },
  "language_info": {
   "codemirror_mode": {
    "name": "ipython",
    "version": 3
   },
   "file_extension": ".py",
   "mimetype": "text/x-python",
   "name": "python",
   "nbconvert_exporter": "python",
   "pygments_lexer": "ipython3",
   "version": "3.8.5"
  }
 },
 "nbformat": 4,
 "nbformat_minor": 4
}
